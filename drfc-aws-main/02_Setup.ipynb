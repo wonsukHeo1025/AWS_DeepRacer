{
 "cells": [
  {
   "cell_type": "markdown",
   "metadata": {},
   "source": [
    "# [2] Setup"
   ]
  },
  {
   "cell_type": "markdown",
   "metadata": {},
   "source": [
    "## 2.1. Custom_files 설정"
   ]
  },
  {
   "cell_type": "markdown",
   "metadata": {},
   "source": [
    "### 2.1.1. reward_function.py 설정"
   ]
  },
  {
   "cell_type": "code",
   "execution_count": 3,
   "metadata": {},
   "outputs": [],
   "source": [
    "from aicastle.deepracer.drfc.aws import drfc\n",
    "drfc.set_reward_function(\"reward_function.py\")\n",
    "\n",
    "# drfc.cat_reward_function()"
   ]
  },
  {
   "cell_type": "markdown",
   "metadata": {},
   "source": [
    "### 2.1.2. `model_metadata.json` 설정"
   ]
  },
  {
   "cell_type": "markdown",
   "metadata": {},
   "source": [
    "- 이산 행동공간"
   ]
  },
  {
   "cell_type": "code",
   "execution_count": null,
   "metadata": {},
   "outputs": [],
   "source": [
    "from aicastle.deepracer.drfc.aws import drfc\n",
    "drfc.set_model_metadata({\n",
    "    \n",
    "    #★ 이산행동 공간 : 최대 30개\n",
    "    \"action_space\": [\n",
    "        {\n",
    "            \"steering_angle\": -30,\n",
    "            \"speed\": 1.3\n",
    "        },\n",
    "        {\n",
    "            \"steering_angle\": -14.4032,\n",
    "            \"speed\": 1.9156\n",
    "        },\n",
    "        {\n",
    "            \"steering_angle\": -11.4052,\n",
    "            \"speed\": 2.9599\n",
    "        },\n",
    "        {\n",
    "            \"steering_angle\": -10.4917 ,\n",
    "            \"speed\": 3.7409\n",
    "        },\n",
    "        {\n",
    "            \"steering_angle\": -8.1582,\n",
    "            \"speed\": 2.3219\n",
    "        },\n",
    "        {\n",
    "            \"steering_angle\": -4.2225,\n",
    "            \"speed\": 1.4052\n",
    "        },\n",
    "        {\n",
    "            \"steering_angle\": -3.3229,\n",
    "            \"speed\": 1.8465\n",
    "        },\n",
    "        {\n",
    "            \"steering_angle\": -0.5052,\n",
    "            \"speed\": 2.7516\n",
    "        },\n",
    "        {\n",
    "            \"steering_angle\": -0.4296,\n",
    "            \"speed\": 3.8064\n",
    "        },\n",
    "        {\n",
    "            \"steering_angle\": 2.3519,\n",
    "            \"speed\": 2.3085\n",
    "        },\n",
    "        {\n",
    "            \"steering_angle\": 4.1328,\n",
    "            \"speed\": 1.7191\n",
    "        },\n",
    "        {\n",
    "            \"steering_angle\": 4.4630,\n",
    "            \"speed\": 3.1384\n",
    "        },\n",
    "        {\n",
    "            \"steering_angle\": 9.0139,\n",
    "            \"speed\": 3.6914\n",
    "        },\n",
    "        {\n",
    "            \"steering_angle\": 8.1321,\n",
    "            \"speed\": 1.3439\n",
    "        },\n",
    "        {\n",
    "            \"steering_angle\": 8.4692,\n",
    "            \"speed\": 2.1450\n",
    "        },\n",
    "        {\n",
    "            \"steering_angle\": 11.5687,\n",
    "            \"speed\": 2.7386\n",
    "        },\n",
    "        {\n",
    "            \"steering_angle\": 12.4579,\n",
    "            \"speed\": 1.7058\n",
    "        },\n",
    "        {\n",
    "            \"steering_angle\": 17.1976,\n",
    "            \"speed\": 2.3005\n",
    "        },\n",
    "        {\n",
    "            \"steering_angle\": 20.3743,\n",
    "            \"speed\": 1.3271\n",
    "        },\n",
    "        {\n",
    "            \"steering_angle\": 22.5687,\n",
    "            \"speed\": 1.7371\n",
    "        },\n",
    "        {\n",
    "            \"steering_angle\": 30.0000,\n",
    "            \"speed\": 1.3000\n",
    "        },\n",
    "    ],\n",
    "    ###########################\n",
    "    \"action_space_type\" : \"discrete\",                        # discrete, continuous\n",
    "    \"training_algorithm\": \"clipped_ppo\",                     # clipped_ppo, sac\n",
    "    \"sensor\": [\"FRONT_FACING_CAMERA\"],                       # (FRONT_FACING_CAMERA or STEREO_CAMERAS) and (none or SECTOR_LIDAR or LIDAR)\n",
    "    \"neural_network\": \"DEEP_CONVOLUTIONAL_NETWORK_SHALLOW\",  # DEEP_CONVOLUTIONAL_NETWORK_SHALLOW, DEEP_CONVOLUTIONAL_NETWORK\n",
    "    \"version\": \"5\",\n",
    "})\n",
    "\n",
    "# drfc.cat_model_metadata()"
   ]
  },
  {
   "cell_type": "markdown",
   "metadata": {},
   "source": [
    "- 연속 행동공간"
   ]
  },
  {
   "cell_type": "code",
   "execution_count": 5,
   "metadata": {},
   "outputs": [],
   "source": [
    "# from aicastle.deepracer.drfc.aws import drfc\n",
    "# drfc.update_model_metadata({\n",
    "#     #★ 연속행동 공간\n",
    "#     \"action_space\" : {\n",
    "#         \"steering_angle\" : {\n",
    "#             \"high\" : 30.0,\n",
    "#             \"low\" : -30.0\n",
    "#         },\n",
    "#         \"speed\" : {\n",
    "#             \"high\" : 1.0,\n",
    "#             \"low\" : 0.5\n",
    "#         }\n",
    "#     },\n",
    "#     ###########################\n",
    "#     \"action_space_type\" : \"continuous\",                       # discrete, continuous\n",
    "#     \"training_algorithm\": \"clipped_ppo\",                      # clipped_ppo, sac\n",
    "#     \"sensor\": [\"FRONT_FACING_CAMERA\"],                        # (FRONT_FACING_CAMERA or STEREO_CAMERAS) and (none or SECTOR_LIDAR or LIDAR)\n",
    "#     \"neural_network\": \"DEEP_CONVOLUTIONAL_NETWORK_SHALLOW\",   # DEEP_CONVOLUTIONAL_NETWORK_SHALLOW, DEEP_CONVOLUTIONAL_NETWORK\n",
    "#     \"version\": \"5\",\n",
    "# })\n",
    "\n",
    "# # drfc.cat_model_metadata()"
   ]
  },
  {
   "cell_type": "markdown",
   "metadata": {},
   "source": [
    "### 2.1.2. `hyperparameters.json` 설정"
   ]
  },
  {
   "cell_type": "code",
   "execution_count": null,
   "metadata": {},
   "outputs": [],
   "source": [
    "from aicastle.deepracer.drfc.aws import drfc\n",
    "drfc.set_hyperparameters({\n",
    "    #★ 배치 크기\n",
    "    \"batch_size\": 64, \n",
    "    #★ 탐험율 (PPO)                     \n",
    "    \"beta_entropy\": 0.01,        \n",
    "    #★ 할인 계수          \n",
    "    \"discount_factor\": 0.5,            \n",
    "    #★ 학습률           \n",
    "    \"lr\": 0.0003,       \n",
    "\n",
    "    ######################################## \n",
    "    \"loss_type\": \"huber\",                  # 손실 함수                  \n",
    "    \"term_cond_max_episodes\": 10000,       # 최대 에피소드 수\n",
    "    \"term_cond_avg_score\": 100000.0,       # 종료 평균 점수\n",
    "    \"num_epochs\": 3,                       # 에포크 수\n",
    "    \"num_episodes_between_training\": 60,   # 학습 간 에피소드 수\n",
    "    \"epsilon_steps\": 100000,               # epsilon 감소 단계\n",
    "    \"sac_alpha\": 0.2,                      # 탐험율 (SAC)\n",
    "    \"e_greedy_value\": 0.05,                # e-greedy 값\n",
    "    \"exploration_type\": \"categorical\",     # 탐험 방식\n",
    "    \"stack_size\": 1,                       # 스택 크기\n",
    "})\n",
    "\n",
    "# drfc.cat_hyperparameters()"
   ]
  },
  {
   "cell_type": "markdown",
   "metadata": {},
   "source": [
    "## 2.2. 환경 변수 설정"
   ]
  },
  {
   "cell_type": "markdown",
   "metadata": {},
   "source": [
    "- 트랙명은 [트랙 정보](https://github.com/aws-deepracer-community/deepracer-race-data/tree/main/raw_data/tracks) 에서 `.npy`를 제거한 이름을 사용합니다."
   ]
  },
  {
   "cell_type": "code",
   "execution_count": null,
   "metadata": {},
   "outputs": [],
   "source": [
    "from aicastle.deepracer.drfc.aws import drfc\n",
    "\n",
    "############# 메인 설정 #############\n",
    "drfc.set_main_env(copy=True,\n",
    "    ####### 필수 설정\n",
    "    #★ 모델명 (폴더명): 모델명은 영문자, 숫자, - (하이픈)만 가능 (훈련시 suffix는 -1 불가)\n",
    "    DR_LOCAL_S3_MODEL_PREFIX = \"wonsuk-13th-model\",\n",
    "    #★ 클론 여부: False (새로운 학습), True (클론)\n",
    "    DR_LOCAL_S3_PRETRAINED = False,\n",
    "    #★ 클론할 모델명 (폴더명)\n",
    "    DR_LOCAL_S3_PRETRAINED_PREFIX = \"model-name-1\",\n",
    "    #★ 레이싱 유형 : TIME_TRIAL, OBJECT_AVOIDANCE, HEAD_TO_BOT\n",
    "    DR_RACE_TYPE = \"OBJECT_AVOIDANCE\",  \n",
    "    \n",
    "    ####### Train\n",
    "    DR_WORLD_NAME = \"reInvent2019_wide_ccw\",   # 트랙 : 트랙 정보에서 .npy 를 제외한 이름\n",
    "    DR_CAR_COLOR = \"Black\",                    # 차량 색깔\n",
    "    DR_WORKERS = 3,                            # 다중 시뮬레이션 워커 수\n",
    "    DR_TRAIN_MULTI_CONFIG = True,              # 서브 Worker의 설정을 사용할지 여부\n",
    "    DR_TRAIN_ALTERNATE_DRIVING_DIRECTION=True, # 방향순환\n",
    "    DR_TRAIN_ROUND_ROBIN_ADVANCE_DIST = 0.1,   # 순환 간격 비율\n",
    "    DR_TRAIN_BEST_MODEL_METRIC = \"progress\",   # best 기준 : progress, reward\n",
    "\n",
    "    ####### OA\n",
    "    DR_OA_NUMBER_OF_OBSTACLES = 3,                      # OA - 상자 개수\n",
    "    DR_OA_RANDOMIZE_OBSTACLE_LOCATIONS = False,         # OA - 장애물 상자 랜덤 위치 여부\n",
    "    DR_OA_OBJECT_POSITIONS = '\"0.25,1;0.55,-1;0.85,1\"', # OA - 장애물 상자 위치 \"progress (fraction [0..1]), inside or outside lane (1 or -1); ...\"\n",
    "    DR_OA_OBSTACLE_TYPE = \"deepracer_box_obstacle\",     # OA - 상자 유형 : box_obstacle, deepracer_box_obstacle, amazon_box_obstacle\n",
    "\n",
    "    ####### EVAL\n",
    "    DR_EVAL_NUMBER_OF_TRIALS=5,     # 최소 평가 횟수\n",
    "    DR_EVAL_OFF_TRACK_PENALTY=3.0,  # 평가시 오프트랙 패널티\n",
    "    DR_EVAL_COLLISION_PENALTY=5.0,  # 평가시 충돌 패널티\n",
    "    DR_EVAL_CHECKPOINT='best',      # 평가시 체크포인트 (best, last)\n",
    "    DR_EVAL_SAVE_MP4=True,          # 평가시 MP4 저장 여부\n",
    "    DR_EVAL_RESET_BEHIND_DIST=-0.5, # 충돌 시 상자 앞에 리셋\n",
    "\n",
    "    ####### ETC\n",
    "    DR_LOCAL_S3_BUCKET = drfc.config['s3-bucket'],\n",
    "    DR_DOCKER_STYLE = \"compose\",    # compose, swarm\n",
    "    DR_CAMERA_MAIN_ENABLE = True,\n",
    "    DR_CAMERA_SUB_ENABLE = True,\n",
    "    DR_CAMERA_KVS_ENABLE = True,\n",
    "    DR_HOST_X = False,\n",
    "    DR_GUI_ENABLE = False,\n",
    ")\n",
    "\n",
    "\n",
    "############# 서브 설정 #############\n",
    "\n",
    "##### 워커 2 (서브)\n",
    "drfc.set_subworker_env(worker_id = 2, copy=True,\n",
    "    DR_WORLD_NAME = \"reinvent_base\",\n",
    "    DR_CAR_COLOR = \"Red\",\n",
    ")\n",
    "\n",
    "##### 워커 3 (서브)\n",
    "drfc.set_subworker_env(worker_id = 3, copy=True,\n",
    "    DR_WORLD_NAME = \"Vegas_track\", \n",
    "    DR_CAR_COLOR = \"Blue\",\n",
    ")"
   ]
  }
 ],
 "metadata": {
  "kernelspec": {
   "display_name": "Python 3",
   "language": "python",
   "name": "python3"
  },
  "language_info": {
   "codemirror_mode": {
    "name": "ipython",
    "version": 3
   },
   "file_extension": ".py",
   "mimetype": "text/x-python",
   "name": "python",
   "nbconvert_exporter": "python",
   "pygments_lexer": "ipython3",
   "version": "3.12.1"
  }
 },
 "nbformat": 4,
 "nbformat_minor": 2
}
