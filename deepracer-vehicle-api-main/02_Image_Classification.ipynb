{
 "cells": [
  {
   "cell_type": "markdown",
   "metadata": {},
   "source": [
    "# [2] Image Classification"
   ]
  },
  {
   "cell_type": "markdown",
   "metadata": {},
   "source": [
    "- 본 섹션은 로컬에서 수집된 데이터를 통해 새로운 이미지 분류 모델을 훈련시키고 예측을 수행합니다.\n",
    "- 관련 자료 : [Tensorflow Image Classification Docs](https://www.tensorflow.org/tutorials/images/classification)"
   ]
  },
  {
   "cell_type": "markdown",
   "metadata": {},
   "source": [
    "## 2.1. 훈련 (Train)"
   ]
  },
  {
   "cell_type": "markdown",
   "metadata": {},
   "source": [
    "### 2.1.1. 훈련 정의"
   ]
  },
  {
   "cell_type": "code",
   "execution_count": null,
   "metadata": {},
   "outputs": [],
   "source": [
    "images_data_dir = 'saved_data/images/2025-02-16T18-59-31'\n",
    "\n",
    "epochs = 30\n",
    "img_resize_height = 120\n",
    "img_resize_width = 160\n",
    "batch_size = 16\n",
    "validation_split = 0.2\n",
    "split_random_seed = 21"
   ]
  },
  {
   "cell_type": "markdown",
   "metadata": {},
   "source": [
    "### 2.1.2. 모델 저장 폴더 생성 및 메타데이터 복사"
   ]
  },
  {
   "cell_type": "code",
   "execution_count": null,
   "metadata": {},
   "outputs": [],
   "source": [
    "import os, shutil, json\n",
    "\n",
    "model_save_dir = os.path.join('saved_data/classification_models/', os.path.basename(images_data_dir))\n",
    "os.makedirs(model_save_dir, exist_ok=True)\n",
    "print(\"model_save_dir :\", model_save_dir)\n",
    "\n",
    "# metadata.json\n",
    "shutil.copy(os.path.join(images_data_dir, 'metadata.json'), model_save_dir)\n",
    "with open(os.path.join(model_save_dir, 'metadata.json'), 'r') as f:\n",
    "    metadata = json.load(f)\n",
    "    print('metadata.json copied')\n",
    "\n",
    "action_space = {action[\"index\"]: action for action in metadata['action_space']}\n",
    "class_names = [str(action_index) for action_index in sorted(action_space.keys())]\n",
    "print('action_space:', action_space)\n",
    "print('class_names:', class_names)"
   ]
  },
  {
   "cell_type": "markdown",
   "metadata": {},
   "source": [
    "### 2.1.3. 데이터셋 준비 (train / validation 분할)"
   ]
  },
  {
   "cell_type": "code",
   "execution_count": null,
   "metadata": {},
   "outputs": [],
   "source": [
    "import tensorflow as tf\n",
    "\n",
    "# 훈련 데이터셋\n",
    "train_ds = tf.keras.utils.image_dataset_from_directory(\n",
    "  images_data_dir,\n",
    "  validation_split=validation_split,\n",
    "  subset=\"training\",\n",
    "  seed=split_random_seed,\n",
    "  image_size=(img_resize_height, img_resize_width),\n",
    "  batch_size=batch_size,\n",
    "  class_names=class_names\n",
    ")\n",
    "\n",
    "# 검증 데이터셋\n",
    "val_ds = tf.keras.utils.image_dataset_from_directory(\n",
    "  images_data_dir,\n",
    "  validation_split=validation_split,\n",
    "  subset=\"validation\",\n",
    "  seed=split_random_seed,\n",
    "  image_size=(img_resize_height, img_resize_width),\n",
    "  batch_size=batch_size,\n",
    "  class_names=class_names\n",
    ")\n",
    "\n",
    "# Prefectch & Cache (성능 최적화)\n",
    "AUTOTUNE = tf.data.AUTOTUNE\n",
    "train_ds = train_ds.cache().prefetch(buffer_size=AUTOTUNE)\n",
    "val_ds   = val_ds.cache().prefetch(buffer_size=AUTOTUNE)\n"
   ]
  },
  {
   "cell_type": "markdown",
   "metadata": {},
   "source": [
    "### 2.1.4. 모델 구성"
   ]
  },
  {
   "cell_type": "markdown",
   "metadata": {},
   "source": [
    "사전 훈련된 모델을 가져와서 로컬 데이터로 훈련 "
   ]
  },
  {
   "cell_type": "code",
   "execution_count": null,
   "metadata": {},
   "outputs": [],
   "source": [
    "from tensorflow import keras\n",
    "from tensorflow.keras import layers\n",
    "\n",
    "num_classes = len(class_names) # 클래스 개수 자동 추출\n",
    "\n",
    "# MobileNetV2 Feature Extractor\n",
    "base_model = keras.applications.MobileNetV2(\n",
    "    weights='imagenet', \n",
    "    input_shape=(img_resize_height, img_resize_width, 3),  \n",
    "    include_top=False\n",
    ")\n",
    "\n",
    "# base_model 가중치를 고정 여부\n",
    "base_model.trainable = True\n",
    "\n",
    "# 모델 구성\n",
    "inputs = keras.Input(shape=(None, None, 3))  # 유동적인 입력 크기 허용\n",
    "\n",
    "# Resize 레이어 적용\n",
    "x = layers.Resizing(img_resize_height, img_resize_width, name='resizing')(inputs)\n",
    "\n",
    "# 데이터 정규화 (0~1 범위)\n",
    "x = layers.Rescaling(1./255)(inputs)\n",
    "\n",
    "# MobileNetV2 백본 사용\n",
    "x = base_model(x, training=False)\n",
    "\n",
    "# 특징 맵을 벡터로 변환\n",
    "x = layers.GlobalAveragePooling2D()(x)\n",
    "\n",
    "# 완전 연결층\n",
    "x = layers.Dense(128, activation='relu')(x)\n",
    "x = layers.Dropout(0.2)(x)  # 과적합 방지\n",
    "\n",
    "# 최종 출력층 (클래스 개수에 맞춤)\n",
    "outputs = layers.Dense(num_classes, activation='softmax')(x)\n",
    "\n",
    "# 모델 생성\n",
    "model = keras.Model(inputs, outputs)\n",
    "\n",
    "# 모델 컴파일\n",
    "model.compile(\n",
    "    optimizer='adam',\n",
    "    loss='sparse_categorical_crossentropy',  # 정수형 라벨 사용 시\n",
    "    metrics=['accuracy']\n",
    ")\n",
    "\n",
    "model.summary()\n"
   ]
  },
  {
   "cell_type": "markdown",
   "metadata": {},
   "source": [
    "### 2.1.5. 콜백 설정"
   ]
  },
  {
   "cell_type": "code",
   "execution_count": null,
   "metadata": {},
   "outputs": [],
   "source": [
    "import os\n",
    "from tensorflow.keras.callbacks import EarlyStopping, ModelCheckpoint\n",
    "\n",
    "callbacks = []\n",
    "\n",
    "# 1) 조기 종료\n",
    "early_stopping = EarlyStopping(\n",
    "    monitor='val_loss',         # 모니터링 대상\n",
    "    patience=5,                 # 에포크 동안 성능 향상이 없으면 조기 종료\n",
    "    restore_best_weights=True,  # 중단 시점에 최적 가중치로 복원\n",
    "    verbose=1                   # 로그 출력\n",
    ")\n",
    "callbacks.append(early_stopping)\n",
    "\n",
    "# 2) 최고 성능(best) 모델 저장\n",
    "ckpt_best = ModelCheckpoint(\n",
    "    filepath=os.path.join(model_save_dir, 'best.keras'),\n",
    "    monitor='val_loss',\n",
    "    save_best_only=True,       # 최적 성능 갱신 시에만 저장\n",
    "    save_weights_only=False,   # 가중치만 저장할지 여부.\n",
    "    save_freq='epoch',         # 저장 빈도 (epoch 단위)\n",
    "    verbose=1,                 # 로그 출력\n",
    "    mode='min',                # val_loss이므로 'min' 모드가 적합\n",
    ")\n",
    "callbacks.append(ckpt_best)\n",
    "\n",
    "# 3) 매 에포크마다(실시간) 체크포인트 저장\n",
    "# ckpt_every_epoch = ModelCheckpoint(\n",
    "#     filepath=os.path.join(model_save_dir, 'epoch_{epoch:02d}.keras'),   # epoch 번호를 파일명에 포함\n",
    "#     monitor='val_loss',      # 모니터링 대상\n",
    "#     save_best_only=False,    # 모든 epoch 저장\n",
    "#     save_weights_only=False, # 가중치만 저장할지 여부.\n",
    "#     save_freq='epoch',       # 저장 빈도 (epoch 단위)\n",
    "#     verbose=1,               # 로그 출력\n",
    "#     mode='auto',             # 보통은 auto / min / max 중 선택\n",
    "# )\n",
    "# callbacks.append(ckpt_every_epoch)"
   ]
  },
  {
   "cell_type": "markdown",
   "metadata": {},
   "source": [
    "### 2.1.6. 모델 훈련"
   ]
  },
  {
   "cell_type": "code",
   "execution_count": null,
   "metadata": {},
   "outputs": [],
   "source": [
    "history = model.fit(\n",
    "    train_ds,\n",
    "    validation_data=val_ds,\n",
    "    epochs=epochs,\n",
    "    callbacks=callbacks\n",
    ")"
   ]
  },
  {
   "cell_type": "markdown",
   "metadata": {},
   "source": [
    "### 2.1.7. 훈련 결과 시각화"
   ]
  },
  {
   "cell_type": "code",
   "execution_count": null,
   "metadata": {},
   "outputs": [],
   "source": [
    "import matplotlib.pyplot as plt\n",
    "\n",
    "# 1) Loss 시각화\n",
    "plt.figure(figsize=(8, 5))\n",
    "plt.plot(history.history['loss'], label='Train Loss')\n",
    "plt.plot(history.history['val_loss'], label='Validation Loss')\n",
    "plt.title('Loss over epochs')\n",
    "plt.xlabel('Epoch')\n",
    "plt.ylabel('Loss')\n",
    "plt.legend()\n",
    "plt.grid(True)\n",
    "plt.show()\n",
    "\n",
    "# 2) Accuracy 시각화\n",
    "plt.figure(figsize=(8, 5))\n",
    "plt.plot(history.history['accuracy'], label='Train Accuracy')\n",
    "plt.plot(history.history['val_accuracy'], label='Validation Accuracy')\n",
    "plt.title('Accuracy over epochs')\n",
    "plt.xlabel('Epoch')\n",
    "plt.ylabel('Accuracy')\n",
    "plt.legend()\n",
    "plt.grid(True)\n",
    "plt.show()\n"
   ]
  },
  {
   "cell_type": "markdown",
   "metadata": {},
   "source": [
    "## 2.2. 추론 (Predict)"
   ]
  },
  {
   "cell_type": "markdown",
   "metadata": {},
   "source": [
    "### 2.2.1. 모델 불러오기"
   ]
  },
  {
   "cell_type": "markdown",
   "metadata": {},
   "source": [
    "### 2.2.2. Vehicle Client 가져오기"
   ]
  },
  {
   "cell_type": "code",
   "execution_count": null,
   "metadata": {},
   "outputs": [],
   "source": [
    "import os\n",
    "from dotenv import load_dotenv\n",
    "from aicastle.deepracer.vehicle.api.client import VehicleClient\n",
    "load_dotenv(\".env\")\n",
    "\n",
    "vehicle =VehicleClient(\n",
    "    ip=os.getenv(\"VEHICLE_IP\"),\n",
    "    password=os.getenv(\"VEHICLE_PASSWORD\"),\n",
    ")\n"
   ]
  },
  {
   "cell_type": "markdown",
   "metadata": {},
   "source": [
    "### 2.2.3. 예측 (추론) 함수 정의"
   ]
  },
  {
   "cell_type": "code",
   "execution_count": null,
   "metadata": {},
   "outputs": [],
   "source": [
    "import numpy as np\n",
    "import time\n",
    "\n",
    "def predict(model, vehicle, action_space):\n",
    "    s_time = time.time()\n",
    "\n",
    "    img = vehicle.get_image(color=\"rgb\")  # shape: (H, W, 3)\n",
    "    x = np.expand_dims(img, axis=0)      # shape: (1, H, W, 3)\n",
    "    y = model.predict(x, verbose=0)      # shape: (1, num_classes)\n",
    "    pred_probs = y[0]\n",
    "    pred_class_idx = pred_probs.argmax()\n",
    "    action = action_space[pred_class_idx]\n",
    "\n",
    "    f_time = time.time()\n",
    "    inference_time = f_time - s_time\n",
    "\n",
    "    return pred_probs, pred_class_idx, action, inference_time"
   ]
  },
  {
   "cell_type": "markdown",
   "metadata": {},
   "source": [
    "- 예측 테스트 (1회)"
   ]
  },
  {
   "cell_type": "code",
   "execution_count": null,
   "metadata": {},
   "outputs": [],
   "source": [
    "pred_probs, pred_class_idx, action, inference_time = predict(model, vehicle, action_space)\n",
    "\n",
    "print(\"예측 확률 :\", pred_probs)\n",
    "print(\"예측 클래스 인덱스:\", pred_class_idx)\n",
    "print(\"예측 클래스 :\", action_space[pred_class_idx])\n",
    "print(\"추론 시간 :\", round(inference_time,3), \"sec\")"
   ]
  },
  {
   "cell_type": "markdown",
   "metadata": {},
   "source": [
    "### 2.2.4. 예측 및 자율주행"
   ]
  },
  {
   "cell_type": "code",
   "execution_count": null,
   "metadata": {},
   "outputs": [],
   "source": [
    "from IPython.display import clear_output\n",
    "\n",
    "vehicle.set_speed_percent(100)\n",
    "\n",
    "try :\n",
    "\tfor _ in range(100):\n",
    "\t\tpred_probs, pred_class_idx, action, inference_time = predict(model, vehicle, action_space)\n",
    "\t\tvehicle.move(angle=action['steering_angle'], speed=action['speed'])\n",
    "\t\tclear_output(wait=True)\n",
    "\t\tprint(\"예측 확률 :\", pred_probs)\n",
    "\t\tprint(\"예측 클래스 인덱스:\", pred_class_idx)\n",
    "\t\tprint(\"예측 클래스 :\", action_space[pred_class_idx])\n",
    "\t\tprint(\"추론 시간 :\", round(inference_time,3), \"sec\")\n",
    "except :\n",
    "    pass\n",
    "vehicle.stop()"
   ]
  }
 ],
 "metadata": {
  "kernelspec": {
   "display_name": "venv",
   "language": "python",
   "name": "python3"
  },
  "language_info": {
   "codemirror_mode": {
    "name": "ipython",
    "version": 3
   },
   "file_extension": ".py",
   "mimetype": "text/x-python",
   "name": "python",
   "nbconvert_exporter": "python",
   "pygments_lexer": "ipython3",
   "version": "3.12.5"
  }
 },
 "nbformat": 4,
 "nbformat_minor": 2
}
