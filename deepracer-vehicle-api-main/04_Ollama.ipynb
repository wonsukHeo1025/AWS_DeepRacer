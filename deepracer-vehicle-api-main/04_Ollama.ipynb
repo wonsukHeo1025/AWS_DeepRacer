{
 "cells": [
  {
   "cell_type": "markdown",
   "metadata": {},
   "source": [
    "# [4] Ollama"
   ]
  },
  {
   "cell_type": "markdown",
   "metadata": {},
   "source": [
    "- 본 섹션은 Ollama를 활용하여 LLM 모델을 통해 예측을 수행합니다."
   ]
  },
  {
   "cell_type": "markdown",
   "metadata": {},
   "source": [
    "## 4.1. Ollama 시작하기"
   ]
  },
  {
   "cell_type": "markdown",
   "metadata": {},
   "source": [
    "- Ollama는 다양한 오픈소스 LLM 모델을 로컬에서 쉽게 사용할 수 있도록 도와주는 프로그램입니다."
   ]
  },
  {
   "cell_type": "markdown",
   "metadata": {},
   "source": [
    "### 4.1.1. Ollama 설치\n",
    "\n",
    "<https://ollama.com/download>\n",
    "\n",
    "위 링크에서 Ollama를 다운로드 받아 설치합니다."
   ]
  },
  {
   "cell_type": "markdown",
   "metadata": {},
   "source": [
    "### 4.1.2. 모델 다운로드\n",
    "\n",
    "- 다음 파이썬 코드를 통해 `llama3.2-vision:11b` 모델을 다운로드합니다."
   ]
  },
  {
   "cell_type": "code",
   "execution_count": 2,
   "metadata": {},
   "outputs": [
    {
     "name": "stdout",
     "output_type": "stream",
     "text": [
      "Pulling llama3.2-vision:11b\n",
      "Pulling llava:13b\n",
      "Pulling minicpm-v:8b\n",
      "Pulling llava-llama3:8b\n"
     ]
    }
   ],
   "source": [
    "import ollama\n",
    "\n",
    "model_list = [\n",
    "    \"llama3.2-vision:11b\", \n",
    "    \"llava:13b\", \n",
    "    \"minicpm-v:8b\", \n",
    "    \"llava-llama3:8b\"\n",
    "]\n",
    "\n",
    "for model in model_list:\n",
    "    print(\"Pulling\", model)\n",
    "    ollama.pull(model)\n",
    "\n",
    "# print(\"Pulling llma3.2-vision:11b\")\n",
    "# ollama.pull(\"llama3.2-vision:11b\")\n",
    "# print(\"Pulling llava:13b\")\n",
    "# ollama.pull(\"llava:13b\")\n",
    "# print(\"Pulling minicpm-v:8b\")\n",
    "# ollama.pull(\"minicpm-v:8b\")\n",
    "# print(\"Pulling llava-llama3:8b\")\n",
    "# ollama.pull(\"llava-llama3:8b\")"
   ]
  },
  {
   "cell_type": "markdown",
   "metadata": {},
   "source": [
    "## 4.2. Llama 모델로 예측하기"
   ]
  },
  {
   "cell_type": "markdown",
   "metadata": {},
   "source": [
    "### 4.2.1. Vehicle API 클라이언트 로드"
   ]
  },
  {
   "cell_type": "code",
   "execution_count": null,
   "metadata": {},
   "outputs": [],
   "source": [
    "import os\n",
    "from dotenv import load_dotenv\n",
    "from aicastle.deepracer.vehicle.api.client import VehicleClient\n",
    "load_dotenv(\".env\")\n",
    "\n",
    "vehicle =VehicleClient(\n",
    "    ip=os.getenv(\"VEHICLE_IP\"),\n",
    "    password=os.getenv(\"VEHICLE_PASSWORD\"),\n",
    ")\n"
   ]
  },
  {
   "cell_type": "markdown",
   "metadata": {},
   "source": [
    "### 4.2.2. 변수 및 프롬프트 정의"
   ]
  },
  {
   "cell_type": "code",
   "execution_count": 5,
   "metadata": {},
   "outputs": [],
   "source": [
    "from aicastle.deepracer.vehicle.api.utils import read_image, get_image_base64\n",
    "\n",
    "image_width = 160\n",
    "image_height = 120\n",
    "\n",
    "messages_prompt = [\n",
    "    {\n",
    "        \"role\": \"system\",\n",
    "        \"content\": (\n",
    "            \"You are an autonomous driving AI.\"\n",
    "            \"Analyze the image captured by the front camera and determine the direction.\"\n",
    "            \"Answer only with one of: straight, left, or right.\"\n",
    "        )\n",
    "    },\n",
    "    {\n",
    "        \"role\": \"user\",\n",
    "        \"content\": \"차선을 이탈하거나 상자(장애물)과 충돌하지 않게 주행하세요.\"\n",
    "    },\n",
    "    {\n",
    "        \"role\": \"user\",\n",
    "        \"images\":[\n",
    "            get_image_base64(\n",
    "                read_image(\n",
    "                    'sample/images/1_right.png', \n",
    "                    width=image_width, \n",
    "                    height=image_height,\n",
    "                    color=\"rgb\"\n",
    "                ),\n",
    "                format=\"jpg\"\n",
    "            )\n",
    "        ]\n",
    "    },\n",
    "    {\n",
    "        \"role\": \"assistant\",\n",
    "        \"content\": \"right\"\n",
    "    },\n",
    "    {\n",
    "        \"role\": \"user\",\n",
    "        \"images\":[\n",
    "            get_image_base64(\n",
    "                read_image(\n",
    "                    'sample/images/2_straight.png', \n",
    "                    width=image_width, \n",
    "                    height=image_height,\n",
    "                    color=\"rgb\"\n",
    "                ),\n",
    "                format=\"jpg\"\n",
    "            )\n",
    "        ]\n",
    "    },\n",
    "    {\n",
    "        \"role\": \"assistant\",\n",
    "        \"content\": \"straight\"\n",
    "    },\n",
    "    {\n",
    "        \"role\": \"user\",\n",
    "        \"images\":[\n",
    "            get_image_base64(\n",
    "                read_image(\n",
    "                    'sample/images/3_left.png', \n",
    "                    width=image_width, \n",
    "                    height=image_height,\n",
    "                    color=\"rgb\"\n",
    "                ),\n",
    "                format=\"jpg\"\n",
    "            )\n",
    "        ]\n",
    "    },\n",
    "    {\n",
    "        \"role\": \"assistant\",\n",
    "        \"content\": \"left\"\n",
    "    },\n",
    "]"
   ]
  },
  {
   "cell_type": "markdown",
   "metadata": {},
   "source": [
    "### 3.2.3. 예측 및 자율주행"
   ]
  },
  {
   "cell_type": "code",
   "execution_count": null,
   "metadata": {},
   "outputs": [],
   "source": [
    "from IPython.display import clear_output\n",
    "import time\n",
    "import ollama\n",
    "from ollama import Client, chat\n",
    "# client = Client(host='http://localhost:11434',headers={'x-some-header': 'some-value'})\n",
    "\n",
    "model=\"llama3.2-vision:11b\"\n",
    "repeat_count = 10\n",
    "user_message = \"\"\"\n",
    "\n",
    "\"\"\".strip()\n",
    "\n",
    "target_actions = {\n",
    "    \"straight\":{\"angle\": 0, \"speed\": 2},\n",
    "    \"left\":{\"angle\": 30, \"speed\": 2},\n",
    "    \"right\":{\"angle\": -30, \"speed\": 2},\n",
    "}\n",
    "\n",
    "\n",
    "vehicle.set_speed_percent(60)\n",
    "try :\n",
    "    for repeat_idx in range(repeat_count):\n",
    "        # image = read_image(\"sample/images/test.png\", width=image_width, height=image_height, color=\"rgb\")\n",
    "        image = vehicle.get_image(width=image_width, height=image_height, color=\"rbg\")\n",
    "        image_base64 = get_image_base64(image, format=\"jpg\")\n",
    "        messages = messages_prompt + [\n",
    "            {\n",
    "                \"role\": \"user\",\n",
    "                \"content\": user_message,\n",
    "                \"images\":[image_base64]\n",
    "            }\n",
    "        ]\n",
    "\n",
    "        s_time = time.time()\n",
    "        # response = client.chat(\n",
    "        response = chat(\n",
    "            model=model,\n",
    "            messages=messages,\n",
    "            options={\n",
    "                \"num_predict\": 1,\n",
    "                \"top_p\": 0, \n",
    "                \"temperature\": 0,\n",
    "                # \"num_gpu\": 1,\n",
    "            },\n",
    "        )\n",
    "        f_time = time.time()\n",
    "        \n",
    "        content = response[\"message\"][\"content\"]\n",
    "        if content in target_actions:\n",
    "            angle = target_actions[content][\"angle\"]\n",
    "            speed = target_actions[content][\"speed\"]\n",
    "        else :\n",
    "            angle = 0\n",
    "            speed = 0\n",
    "        \n",
    "        print(f\"[repeat_idx] {repeat_idx+1}/{repeat_count}\")\n",
    "        print(f\"[inference_time] {f_time - s_time:.4f} sec\")\n",
    "        print(f\"[content] {content}\")\n",
    "        print(f\"[angle] {angle}\")\n",
    "        print(f\"[speed] {speed}\")\n",
    "        clear_output(wait=True)\n",
    "\n",
    "        vehicle.move(angle=angle, speed=speed)\n",
    "\n",
    "    vehicle.stop()\n",
    "except :\n",
    "    vehicle.stop()"
   ]
  }
 ],
 "metadata": {
  "kernelspec": {
   "display_name": "venv",
   "language": "python",
   "name": "python3"
  },
  "language_info": {
   "codemirror_mode": {
    "name": "ipython",
    "version": 3
   },
   "file_extension": ".py",
   "mimetype": "text/x-python",
   "name": "python",
   "nbconvert_exporter": "python",
   "pygments_lexer": "ipython3",
   "version": "3.11.9"
  }
 },
 "nbformat": 4,
 "nbformat_minor": 2
}
