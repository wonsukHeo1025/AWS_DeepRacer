{
 "cells": [
  {
   "cell_type": "markdown",
   "metadata": {},
   "source": [
    "# [1] Vehicle API Tutorial"
   ]
  },
  {
   "cell_type": "markdown",
   "metadata": {},
   "source": [
    "## 1.1. Vehicle Client"
   ]
  },
  {
   "cell_type": "code",
   "execution_count": null,
   "metadata": {},
   "outputs": [],
   "source": [
    "import os\n",
    "from dotenv import load_dotenv\n",
    "from aicastle.deepracer.vehicle.api.client import VehicleClient\n",
    "load_dotenv(\".env\")\n",
    "\n",
    "vehicle =VehicleClient(\n",
    "    ip=os.getenv(\"VEHICLE_IP\"),\n",
    "    password=os.getenv(\"VEHICLE_PASSWORD\"),\n",
    ")\n"
   ]
  },
  {
   "cell_type": "markdown",
   "metadata": {},
   "source": [
    "### 1.1.1. info 속성"
   ]
  },
  {
   "cell_type": "code",
   "execution_count": null,
   "metadata": {},
   "outputs": [],
   "source": [
    "print(vehicle.info)"
   ]
  },
  {
   "cell_type": "markdown",
   "metadata": {},
   "source": [
    "### 1.1.2. frame_queue"
   ]
  },
  {
   "cell_type": "code",
   "execution_count": null,
   "metadata": {},
   "outputs": [],
   "source": [
    "print(\"frame_queue length: \", len(vehicle.frame_queue))\n",
    "print(\"frame_shape: \", vehicle.frame_queue[0].shape)\n",
    "# print(\"frame_queue last: \\n\", vehicle.frame_queue[-1])"
   ]
  },
  {
   "cell_type": "markdown",
   "metadata": {},
   "source": [
    "### 1.1.3. show_image"
   ]
  },
  {
   "cell_type": "code",
   "execution_count": null,
   "metadata": {},
   "outputs": [],
   "source": [
    "from aicastle.deepracer.vehicle.api.utils import show_image\n",
    "\n",
    "show_image(\n",
    "    frame_queue = vehicle.frame_queue,\n",
    "    window_name=vehicle.ip\n",
    ")"
   ]
  },
  {
   "cell_type": "markdown",
   "metadata": {},
   "source": [
    "### 1.1.4. move"
   ]
  },
  {
   "cell_type": "code",
   "execution_count": null,
   "metadata": {},
   "outputs": [],
   "source": [
    "import time\n",
    "\n",
    "vehicle.move(angle=0, speed=3)\n",
    "time.sleep(1)\n",
    "vehicle.move(angle=0, speed=0)"
   ]
  },
  {
   "cell_type": "markdown",
   "metadata": {},
   "source": [
    "### 1.1.5. set_speed_percent"
   ]
  },
  {
   "cell_type": "code",
   "execution_count": null,
   "metadata": {},
   "outputs": [],
   "source": [
    "import time\n",
    "\n",
    "vehicle.set_speed_percent(70)\n",
    "vehicle.move(angle=0, speed=3)\n",
    "time.sleep(1)\n",
    "\n",
    "vehicle.set_speed_percent(50)\n",
    "vehicle.move(angle=0, speed=3)\n",
    "time.sleep(1)\n",
    "\n",
    "vehicle.move(angle=0, speed=0)"
   ]
  },
  {
   "cell_type": "markdown",
   "metadata": {},
   "source": [
    "### 1.1.6. speed_percent up down"
   ]
  },
  {
   "cell_type": "code",
   "execution_count": null,
   "metadata": {},
   "outputs": [],
   "source": [
    "vehicle.speed_percent_increase = 1\n",
    "\n",
    "print(\"Origin: \", vehicle.info[\"speed_percent\"])\n",
    "\n",
    "vehicle.speed_percent_up()\n",
    "print(\"After speed up: \", vehicle.info[\"speed_percent\"])\n",
    "\n",
    "vehicle.speed_percent_down()\n",
    "print(\"After speed down: \", vehicle.info[\"speed_percent\"])\n"
   ]
  },
  {
   "cell_type": "markdown",
   "metadata": {},
   "source": [
    "### 1.1.7. uploaded_model_list"
   ]
  },
  {
   "cell_type": "code",
   "execution_count": null,
   "metadata": {},
   "outputs": [],
   "source": [
    "vehicle.uploaded_model_list()"
   ]
  },
  {
   "cell_type": "markdown",
   "metadata": {},
   "source": [
    "### 1.1.8. upload_model"
   ]
  },
  {
   "cell_type": "code",
   "execution_count": null,
   "metadata": {},
   "outputs": [],
   "source": [
    "model_zip_path = \"saved_data/models/model2.tar.gz\"\n",
    "\n",
    "model_name = vehicle.upload_model(model_zip_path)\n",
    "print(\"Model name: \", model_name)"
   ]
  },
  {
   "cell_type": "markdown",
   "metadata": {},
   "source": [
    "### 1.1.9. load_model"
   ]
  },
  {
   "cell_type": "markdown",
   "metadata": {},
   "source": [
    "- load_model"
   ]
  },
  {
   "cell_type": "code",
   "execution_count": null,
   "metadata": {},
   "outputs": [],
   "source": [
    "model_name = \"model1\"\n",
    "\n",
    "vehicle.load_model(model_name)"
   ]
  },
  {
   "cell_type": "markdown",
   "metadata": {},
   "source": [
    "- stop"
   ]
  },
  {
   "cell_type": "code",
   "execution_count": null,
   "metadata": {},
   "outputs": [],
   "source": [
    "vehicle.stop()"
   ]
  },
  {
   "cell_type": "markdown",
   "metadata": {},
   "source": [
    "- set speed percent 70"
   ]
  },
  {
   "cell_type": "code",
   "execution_count": null,
   "metadata": {},
   "outputs": [],
   "source": [
    "vehicle.set_speed_percent(70)"
   ]
  },
  {
   "cell_type": "markdown",
   "metadata": {},
   "source": [
    "- set speed percent 50"
   ]
  },
  {
   "cell_type": "code",
   "execution_count": null,
   "metadata": {},
   "outputs": [],
   "source": [
    "vehicle.set_speed_percent(50)"
   ]
  },
  {
   "cell_type": "markdown",
   "metadata": {},
   "source": [
    "- stop"
   ]
  },
  {
   "cell_type": "code",
   "execution_count": null,
   "metadata": {},
   "outputs": [],
   "source": [
    "vehicle.stop()"
   ]
  },
  {
   "cell_type": "markdown",
   "metadata": {},
   "source": [
    "### 1.1.10. calibration"
   ]
  },
  {
   "cell_type": "markdown",
   "metadata": {},
   "source": [
    "- get_calibration_angle"
   ]
  },
  {
   "cell_type": "code",
   "execution_count": null,
   "metadata": {},
   "outputs": [],
   "source": [
    "vehicle.get_calibration_angle()"
   ]
  },
  {
   "cell_type": "markdown",
   "metadata": {},
   "source": [
    "- get_calibration_speed"
   ]
  },
  {
   "cell_type": "code",
   "execution_count": null,
   "metadata": {},
   "outputs": [],
   "source": [
    "vehicle.get_calibration_speed()"
   ]
  },
  {
   "cell_type": "markdown",
   "metadata": {},
   "source": [
    "- set_calibration_angle"
   ]
  },
  {
   "cell_type": "code",
   "execution_count": null,
   "metadata": {},
   "outputs": [],
   "source": [
    "vehicle.set_calibration_angle(center=-5, left=25, right=-35)"
   ]
  },
  {
   "cell_type": "markdown",
   "metadata": {},
   "source": [
    "- set_calibration_speed"
   ]
  },
  {
   "cell_type": "code",
   "execution_count": null,
   "metadata": {},
   "outputs": [],
   "source": [
    "vehicle.set_calibration_speed(stopped=-12, forward=-50, backward=20)"
   ]
  },
  {
   "cell_type": "markdown",
   "metadata": {},
   "source": [
    "- calibration result test"
   ]
  },
  {
   "cell_type": "code",
   "execution_count": null,
   "metadata": {},
   "outputs": [],
   "source": [
    "vehicle.move_forward(duration=1)\n",
    "# vehicle.move_left(duration=1)\n",
    "# vehicle.move_right(duration=1)"
   ]
  },
  {
   "cell_type": "markdown",
   "metadata": {},
   "source": [
    "## 1.2. Keyboard Listener"
   ]
  },
  {
   "cell_type": "markdown",
   "metadata": {},
   "source": [
    "### 1.2.1. keyboard_listner"
   ]
  },
  {
   "cell_type": "code",
   "execution_count": null,
   "metadata": {},
   "outputs": [],
   "source": [
    "from aicastle.deepracer.vehicle.api.utils import KeyboardListener\n",
    "\n",
    "keyboard_listener = KeyboardListener(\n",
    "    on_press_callback={\n",
    "        \"+\": [vehicle.speed_percent_up],\n",
    "        \"-\": [vehicle.speed_percent_down],\n",
    "        \"Key.enter\": [vehicle.start],\n",
    "        \"Key.space\": [vehicle.stop],\n",
    "    }\n",
    ")"
   ]
  },
  {
   "cell_type": "markdown",
   "metadata": {},
   "source": [
    "- info"
   ]
  },
  {
   "cell_type": "code",
   "execution_count": null,
   "metadata": {},
   "outputs": [],
   "source": [
    "print(keyboard_listener.info)"
   ]
  },
  {
   "cell_type": "markdown",
   "metadata": {},
   "source": [
    "### 1.2.2. speed_percent up down test\n",
    "\n",
    "- 아래 코드 실행 후 `+`, `-` 누르면서 결과 확인하기"
   ]
  },
  {
   "cell_type": "code",
   "execution_count": null,
   "metadata": {},
   "outputs": [],
   "source": [
    "vehicle.move(angle=0, speed=3)"
   ]
  },
  {
   "cell_type": "markdown",
   "metadata": {},
   "source": [
    "- 정지"
   ]
  },
  {
   "cell_type": "code",
   "execution_count": null,
   "metadata": {},
   "outputs": [],
   "source": [
    "vehicle.stop()"
   ]
  },
  {
   "cell_type": "markdown",
   "metadata": {},
   "source": [
    "### 1.2.3. auto mode start stop test\n",
    "\n",
    "- 아래 코드 실행 후 `enter`, `space`, `+`, `-` 누르면서 결과 확인하기"
   ]
  },
  {
   "cell_type": "code",
   "execution_count": null,
   "metadata": {},
   "outputs": [],
   "source": [
    "model_name = \"model1\"\n",
    "\n",
    "vehicle.load_model(model_name)"
   ]
  },
  {
   "cell_type": "markdown",
   "metadata": {},
   "source": [
    "## 1.3. Show Info"
   ]
  },
  {
   "cell_type": "markdown",
   "metadata": {},
   "source": [
    "### 1.3.1. show_info"
   ]
  },
  {
   "cell_type": "code",
   "execution_count": null,
   "metadata": {},
   "outputs": [],
   "source": [
    "from aicastle.deepracer.vehicle.api.utils import show_info\n",
    "\n",
    "show_info_stop_event = show_info(\n",
    "    info_containers=[\n",
    "        keyboard_listener.info,\n",
    "        vehicle.info,\n",
    "    ],\n",
    "    show_keys=[\n",
    "        \"pressed_key\",\n",
    "        \"battery_level\",\n",
    "        \"speed_percent\",\n",
    "        \"fetch_fps\",\n",
    "\n",
    "    ]\n",
    ")"
   ]
  },
  {
   "cell_type": "markdown",
   "metadata": {},
   "source": [
    "### 1.3.2. show_info_stop"
   ]
  },
  {
   "cell_type": "code",
   "execution_count": null,
   "metadata": {},
   "outputs": [],
   "source": [
    "# show_info_stop_event.set()"
   ]
  },
  {
   "cell_type": "markdown",
   "metadata": {},
   "source": [
    "## 1.4. Keyboard Controller"
   ]
  },
  {
   "cell_type": "markdown",
   "metadata": {},
   "source": [
    "- set controller"
   ]
  },
  {
   "cell_type": "code",
   "execution_count": null,
   "metadata": {},
   "outputs": [],
   "source": [
    "from aicastle.deepracer.vehicle.api.controller import KeyboardController\n",
    "\n",
    "keyboard_controller = KeyboardController(\n",
    "    vehicle=vehicle,\n",
    "    keyboard_listener=keyboard_listener,\n",
    "    action_space=[\n",
    "        {\"steering_angle\": 0, \"speed\": 3, \"index\": 0},\n",
    "        {\"steering_angle\": 30, \"speed\": 3, \"index\": 1},\n",
    "        {\"steering_angle\": -30, \"speed\": 3, \"index\": 2},\n",
    "        {\"steering_angle\": 0, \"speed\": -3, \"index\": 3},\n",
    "    ],\n",
    "    index_key_map = {\n",
    "        0: \"Key.up\",\n",
    "        1: \"Key.left\",\n",
    "        2: \"Key.right\",\n",
    "        3: \"Key.down\",\n",
    "    },\n",
    "    save=True,\n",
    "    save_dir='saved_data/images',\n",
    "    save_interval=0.2,\n",
    ")"
   ]
  },
  {
   "cell_type": "markdown",
   "metadata": {},
   "source": [
    "- run"
   ]
  },
  {
   "cell_type": "code",
   "execution_count": null,
   "metadata": {},
   "outputs": [],
   "source": [
    "keyboard_controller.run(exit_key='Key.esc')"
   ]
  },
  {
   "cell_type": "markdown",
   "metadata": {},
   "source": [
    "## 1.5. Auto Model Load Controller"
   ]
  },
  {
   "cell_type": "markdown",
   "metadata": {},
   "source": [
    "- set controller"
   ]
  },
  {
   "cell_type": "code",
   "execution_count": null,
   "metadata": {},
   "outputs": [],
   "source": [
    "from aicastle.deepracer.vehicle.api.controller import AutoModelLoadController\n",
    "\n",
    "auto_model_load_controller = AutoModelLoadController(\n",
    "    vehicle=vehicle,\n",
    "    keyboard_listener=keyboard_listener,\n",
    "    key_model_map={\n",
    "        \"1\":\"model1\",\n",
    "        \"2\":\"model2\",\n",
    "    }\n",
    ")"
   ]
  },
  {
   "cell_type": "markdown",
   "metadata": {},
   "source": [
    "- run"
   ]
  },
  {
   "cell_type": "code",
   "execution_count": null,
   "metadata": {},
   "outputs": [],
   "source": [
    "auto_model_load_controller.run(exit_key='Key.esc')"
   ]
  },
  {
   "cell_type": "markdown",
   "metadata": {},
   "source": [
    "## 1.6. Model Analyize"
   ]
  },
  {
   "cell_type": "markdown",
   "metadata": {},
   "source": [
    "- extract model_zip"
   ]
  },
  {
   "cell_type": "code",
   "execution_count": null,
   "metadata": {},
   "outputs": [],
   "source": [
    "from aicastle.deepracer.vehicle.api.utils import extract_model\n",
    "\n",
    "model_zip_path = \"saved_data/models/model2.tar.gz\"\n",
    "model_folder_path = extract_model(model_zip_path)\n",
    "print(model_folder_path)"
   ]
  },
  {
   "cell_type": "markdown",
   "metadata": {},
   "source": [
    "- load analyzer"
   ]
  },
  {
   "cell_type": "code",
   "execution_count": null,
   "metadata": {},
   "outputs": [],
   "source": [
    "from aicastle.deepracer.vehicle.api.analyzer import ModelAnalyzer\n",
    "\n",
    "analyzer = ModelAnalyzer(model_folder_path)"
   ]
  },
  {
   "cell_type": "markdown",
   "metadata": {},
   "source": [
    "- show heatmap"
   ]
  },
  {
   "cell_type": "code",
   "execution_count": null,
   "metadata": {},
   "outputs": [],
   "source": [
    "import cv2\n",
    "import time\n",
    "from collections import deque\n",
    "from IPython.display import clear_output\n",
    "from aicastle.deepracer.vehicle.api.utils import read_image, show_image\n",
    "\n",
    "heatmap_frame_queue = deque(maxlen=1)\n",
    "show_image(frame_queue=heatmap_frame_queue, window_name=\"heatmap\")\n",
    "\n",
    "try :\n",
    "    while True : \n",
    "        # image = read_image(\"sample/images/2_straight.png\", color=\"bgr\")\n",
    "        image = vehicle.get_image()\n",
    "        heatmap_img, pred, argmax_val = analyzer.visualize(image, alpha=0.4)\n",
    "        heatmap_frame_queue.append(heatmap_img)\n",
    "        print(\"Predictions:\", pred.round(2))\n",
    "        print(\"Argmax Value:\", argmax_val)\n",
    "        clear_output(wait=True)\n",
    "        time.sleep(0.1)\n",
    "except :\n",
    "    pass"
   ]
  }
 ],
 "metadata": {
  "kernelspec": {
   "display_name": "venv",
   "language": "python",
   "name": "python3"
  },
  "language_info": {
   "codemirror_mode": {
    "name": "ipython",
    "version": 3
   },
   "file_extension": ".py",
   "mimetype": "text/x-python",
   "name": "python",
   "nbconvert_exporter": "python",
   "pygments_lexer": "ipython3",
   "version": "3.12.5"
  }
 },
 "nbformat": 4,
 "nbformat_minor": 2
}
