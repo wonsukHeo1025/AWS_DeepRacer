{
 "cells": [
  {
   "cell_type": "markdown",
   "metadata": {},
   "source": [
    "# [0] Initialize"
   ]
  },
  {
   "cell_type": "markdown",
   "metadata": {},
   "source": [
    "- DeepRacer 차량 내부에 있는 `vehicle_control.py`를 수정합니다.\n",
    "    > 기본 API는 차량 제어시 연속적 값을 허용하지 않고 이산적으로 각도랑 속도를 임계점에 따라 조정하도록 되어있는데 이것을 연속적 값 수정이 되도록 허용합니다.\n",
    "- `ssh_module_update=True, ssh_module_update_custom=True`로 설정하면 초기 구성파일을 커스텀 파일로 수정합니다.\n",
    "\n",
    "- `ssh_module_update=True, ssh_module_update_custom=False`로 설정하면 초기 구성파일을 원본 파일로 수정합니다."
   ]
  },
  {
   "cell_type": "code",
   "execution_count": null,
   "metadata": {},
   "outputs": [],
   "source": [
    "import os\n",
    "from dotenv import load_dotenv\n",
    "from aicastle.deepracer.vehicle.api.client import VehicleClient\n",
    "load_dotenv(\".env\")\n",
    "\n",
    "vehicle =VehicleClient(\n",
    "    ip=os.getenv(\"VEHICLE_IP\"),\n",
    "    password=os.getenv(\"VEHICLE_PASSWORD\"),\n",
    "    ssh_module_update=True,\n",
    "    ssh_module_update_custom=True,\n",
    "    # ssh_password='DeepRacer111!!!',\n",
    ")\n"
   ]
  }
 ],
 "metadata": {
  "kernelspec": {
   "display_name": "venv",
   "language": "python",
   "name": "python3"
  },
  "language_info": {
   "codemirror_mode": {
    "name": "ipython",
    "version": 3
   },
   "file_extension": ".py",
   "mimetype": "text/x-python",
   "name": "python",
   "nbconvert_exporter": "python",
   "pygments_lexer": "ipython3",
   "version": "3.12.5"
  }
 },
 "nbformat": 4,
 "nbformat_minor": 2
}
